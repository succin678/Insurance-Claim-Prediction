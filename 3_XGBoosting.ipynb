{
 "cells": [
  {
   "cell_type": "code",
   "execution_count": 1,
   "metadata": {},
   "outputs": [
    {
     "name": "stderr",
     "output_type": "stream",
     "text": [
      "/opt/anaconda3/lib/python3.7/site-packages/lightgbm/__init__.py:48: UserWarning: Starting from version 2.2.1, the library file in distribution wheels for macOS is built by the Apple Clang (Xcode_8.3.3) compiler.\n",
      "This means that in case of installing LightGBM from PyPI via the ``pip install lightgbm`` command, you don't need to install the gcc compiler anymore.\n",
      "Instead of that, you need to install the OpenMP library, which is required for running LightGBM on the system with the Apple Clang compiler.\n",
      "You can install the OpenMP library by the following command: ``brew install libomp``.\n",
      "  \"You can install the OpenMP library by the following command: ``brew install libomp``.\", UserWarning)\n"
     ]
    }
   ],
   "source": [
    "import numpy as np\n",
    "import pandas as pd\n",
    "from datetime import datetime\n",
    "import seaborn as sns\n",
    "import matplotlib.pyplot as plt\n",
    "%matplotlib inline\n",
    "\n",
    "from sklearn.linear_model import LogisticRegression\n",
    "from sklearn.metrics import confusion_matrix, roc_auc_score ,roc_curve,auc\n",
    "from sklearn.metrics import f1_score, precision_score, recall_score, accuracy_score\n",
    "import xgboost as xgb\n",
    "from xgboost import plot_importance\n",
    "import lightgbm as lgb\n",
    "from xgboost import XGBClassifier\n",
    "from sklearn.model_selection import train_test_split\n",
    "from sklearn.model_selection import cross_val_score\n",
    "from sklearn.model_selection import StratifiedKFold\n",
    "from sklearn.model_selection import RepeatedStratifiedKFold\n",
    "import time \n",
    "from sklearn.preprocessing import OneHotEncoder\n",
    "from sklearn.preprocessing import LabelEncoder\n",
    "\n",
    "\n",
    "seed = 45"
   ]
  },
  {
   "cell_type": "code",
   "execution_count": 2,
   "metadata": {},
   "outputs": [],
   "source": [
    "df = pd.read_csv('2_Cleaned_Data.csv')"
   ]
  },
  {
   "cell_type": "code",
   "execution_count": 3,
   "metadata": {},
   "outputs": [],
   "source": [
    "# Split dataset"
   ]
  },
  {
   "cell_type": "code",
   "execution_count": 4,
   "metadata": {},
   "outputs": [],
   "source": [
    "X = df.drop(['target','hhld_id'],axis=1)\n",
    "y = df['target']"
   ]
  },
  {
   "cell_type": "code",
   "execution_count": 5,
   "metadata": {},
   "outputs": [],
   "source": [
    "#X_train, X_test, Y_train, Y_test = train_test_split(X, y, test_size=0.2,random_state=42)"
   ]
  },
  {
   "cell_type": "code",
   "execution_count": 6,
   "metadata": {},
   "outputs": [],
   "source": [
    "#D_train = xgb.DMatrix(X_train, label=Y_train)\n",
    "#D_test = xgb.DMatrix(X_test, label=Y_test)"
   ]
  },
  {
   "cell_type": "code",
   "execution_count": 7,
   "metadata": {},
   "outputs": [],
   "source": [
    "learning_rate = 0.1\n",
    "num_round = 1000\n",
    "seed = 0\n",
    "max_depth = 6\n",
    "min_child_weight = 7\n",
    "gamma = 0\n",
    "subsample = 0.8\n",
    "colsample_bytree = 0.8\n",
    "scale_pos_weight = 18\n",
    "reg_alpha = 1\n",
    "reg_lambda = 1e-5\n",
    "\n",
    "model = XGBClassifier(learning_rate=learning_rate, n_estimators=num_round, max_depth=max_depth,\n",
    "                      min_child_weight=min_child_weight, gamma=gamma, subsample=subsample, reg_alpha=reg_alpha,\n",
    "                      reg_lambda=reg_lambda, colsample_bytree=colsample_bytree, objective='binary:logistic',\n",
    "                      nthread=4, scale_pos_weight=scale_pos_weight, seed=seed)"
   ]
  },
  {
   "cell_type": "code",
   "execution_count": 8,
   "metadata": {},
   "outputs": [],
   "source": [
    "# define evaluation procedure\n",
    "K = 3\n",
    "cv = StratifiedKFold(n_splits = K, random_state = 1, shuffle = True)"
   ]
  },
  {
   "cell_type": "code",
   "execution_count": 9,
   "metadata": {},
   "outputs": [
    {
     "name": "stdout",
     "output_type": "stream",
     "text": [
      "Mean Accuracy: 0.987\n",
      "Mean Roc Auc: 0.985\n",
      "Mean Recall: 0.885\n",
      "Mean Precision: 0.885\n"
     ]
    }
   ],
   "source": [
    "# evaluate model\n",
    "accuracy_scores = cross_val_score(model, X, y, scoring='accuracy', cv=cv, n_jobs=-1)\n",
    "rocauc_scores = cross_val_score(model, X, y, scoring='roc_auc', cv=cv, n_jobs=-1)\n",
    "recall_scores = cross_val_score(model, X, y, scoring='recall', cv=cv, n_jobs=-1)\n",
    "precision_scores = cross_val_score(model, X, y, scoring='precision', cv=cv, n_jobs=-1)\n",
    "# summarize performance\n",
    "print('Mean Accuracy: %.3f' % np.mean(accuracy_scores))\n",
    "print('Mean Roc Auc: %.3f' % np.mean(rocauc_scores))\n",
    "print('Mean Recall: %.3f' % np.mean(recall_scores))\n",
    "print('Mean Precision: %.3f' % np.mean(precision_scores))"
   ]
  },
  {
   "cell_type": "code",
   "execution_count": 10,
   "metadata": {},
   "outputs": [
    {
     "data": {
      "image/png": "[encoded data removed]",
      "text/plain": [
       "<Figure size 432x288 with 1 Axes>"
      ]
     },
     "metadata": {
      "needs_background": "light"
     },
     "output_type": "display_data"
    }
   ],
   "source": [
    "fig, ax =plt.subplots()\n",
    "clust_data = [[np.mean(accuracy_scores), np.mean(rocauc_scores),np.mean(recall_scores), np.mean(precision_scores)]]\n",
    "collabel=(\"Mean Accuracy\", \"Mean Roc Auc\", \"Mean Recall\", \"Mean Precision\")\n",
    "ax.axis('tight')\n",
    "ax.axis('off')\n",
    "df = pd.DataFrame(clust_data, columns=collabel)\n",
    "\n",
    "table= ax.table(cellText=df.values, colLabels=df.columns, loc='center')\n",
    "table.set_fontsize(30)\n",
    "table.scale(1.8, 2)\n",
    "plt.savefig('Generated_Image/XGB_Scrore', bbox_inches = 'tight')\n",
    "\n",
    "plt.show()"
   ]
  }
 ],
 "metadata": {
  "kernelspec": {
   "display_name": "Python 3",
   "language": "python",
   "name": "python3"
  },
  "language_info": {
   "codemirror_mode": {
    "name": "ipython",
    "version": 3
   },
   "file_extension": ".py",
   "mimetype": "text/x-python",
   "name": "python",
   "nbconvert_exporter": "python",
   "pygments_lexer": "ipython3",
   "version": "3.8.3"
  }
 },
 "nbformat": 4,
 "nbformat_minor": 4
}
