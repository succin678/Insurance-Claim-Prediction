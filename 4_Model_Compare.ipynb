{
 "cells": [
  {
   "cell_type": "code",
   "execution_count": 1,
   "metadata": {},
   "outputs": [],
   "source": [
    "import pandas as pd"
   ]
  },
  {
   "cell_type": "code",
   "execution_count": 2,
   "metadata": {},
   "outputs": [],
   "source": [
    "data = {'Models': ['Logistic_Reg','XGBoost','Deep_Neural_Networks'],\n",
    "        'AUC': [0.947, 0.985, 0.861] ,\n",
    "        'AUC_with_Feature_Selection': [0.983, 0.988, 0.978]}\n",
    "\n",
    "df = pd.DataFrame (data, columns = ['Models','AUC', 'AUC_with_Feature_Selection'])"
   ]
  },
  {
   "cell_type": "code",
   "execution_count": 3,
   "metadata": {},
   "outputs": [
    {
     "name": "stdout",
     "output_type": "stream",
     "text": [
      "                 Models    AUC  AUC_with_Feature_Selection\n",
      "0          Logistic_Reg  0.947                       0.983\n",
      "1               XGBoost  0.985                       0.988\n",
      "2  Deep_Neural_Networks  0.861                       0.978\n"
     ]
    }
   ],
   "source": [
    "print(df)"
   ]
  },
  {
   "cell_type": "code",
   "execution_count": 4,
   "metadata": {},
   "outputs": [],
   "source": [
    "import matplotlib.pyplot as plt\n",
    "%matplotlib inline\n",
    "import seaborn as sns"
   ]
  },
  {
   "cell_type": "code",
   "execution_count": 5,
   "metadata": {},
   "outputs": [
    {
     "data": {
      "text/plain": [
       "<Figure size 432x288 with 0 Axes>"
      ]
     },
     "metadata": {},
     "output_type": "display_data"
    },
    {
     "data": {
      "image/png": "[encoded data removed]",
      "text/plain": [
       "<Figure size 432x288 with 1 Axes>"
      ]
     },
     "metadata": {
      "needs_background": "light"
     },
     "output_type": "display_data"
    }
   ],
   "source": [
    "plt.figure()\n",
    "fig, ax = plt.subplots(figsize=(6,4))\n",
    "    \n",
    "sns.barplot(ax=ax, x='Models', y='AUC', data=df)\n",
    "plt.ylabel('AUC')\n",
    "plt.xlabel('Models')\n",
    "x1,x2,y1,y2 = plt.axis()\n",
    "plt.axis([x1, x2, 0.7, 1.0])\n",
    "\n",
    "plt.tick_params(axis='both', which='major')\n",
    "plt.savefig('Generated_Image/Accuracy')\n",
    "\n",
    "plt.show();"
   ]
  },
  {
   "cell_type": "code",
   "execution_count": null,
   "metadata": {},
   "outputs": [],
   "source": []
  }
 ],
 "metadata": {
  "kernelspec": {
   "display_name": "Python 3",
   "language": "python",
   "name": "python3"
  },
  "language_info": {
   "codemirror_mode": {
    "name": "ipython",
    "version": 3
   },
   "file_extension": ".py",
   "mimetype": "text/x-python",
   "name": "python",
   "nbconvert_exporter": "python",
   "pygments_lexer": "ipython3",
   "version": "3.7.6"
  }
 },
 "nbformat": 4,
 "nbformat_minor": 4
}
