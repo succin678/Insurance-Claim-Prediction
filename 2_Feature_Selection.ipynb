{
 "cells": [
  {
   "cell_type": "code",
   "execution_count": 1,
   "metadata": {},
   "outputs": [],
   "source": [
    "import numpy as np\n",
    "import pandas as pd\n",
    "\n",
    "import matplotlib.pyplot as plt\n",
    "%matplotlib inline\n",
    "import seaborn as sns\n",
    "\n",
    "from sklearn.ensemble import RandomForestClassifier\n",
    "from sklearn.linear_model import LogisticRegression\n",
    "from sklearn.model_selection import train_test_split\n",
    "from sklearn.metrics import confusion_matrix, roc_auc_score ,roc_curve,auc\n",
    "from sklearn.metrics import f1_score, precision_score, recall_score, accuracy_score\n",
    "from sklearn.feature_selection import SelectFromModel"
   ]
  },
  {
   "cell_type": "code",
   "execution_count": 2,
   "metadata": {},
   "outputs": [],
   "source": [
    "df = pd.read_csv('1_Merged_Data.csv')"
   ]
  },
  {
   "cell_type": "code",
   "execution_count": 3,
   "metadata": {},
   "outputs": [],
   "source": [
    "#####################\n",
    "# Check missing values"
   ]
  },
  {
   "cell_type": "code",
   "execution_count": 4,
   "metadata": {},
   "outputs": [
    {
     "name": "stdout",
     "output_type": "stream",
     "text": [
      "Variable curnt_insurer has 859 records (34.98%) with missing values\n",
      "Variable time_w_carr has 68 records (2.77%) with missing values\n",
      "Variable prior_bi has 68 records (2.77%) with missing values\n",
      "Variable veh_lien_cnt has 2451 records (99.80%) with missing values\n",
      "Variable credit_score has 108 records (4.40%) with missing values\n",
      "In total, there are 5 variables with missing values\n"
     ]
    },
    {
     "name": "stderr",
     "output_type": "stream",
     "text": [
      "/opt/anaconda3/lib/python3.7/site-packages/pandas/core/ops/array_ops.py:253: FutureWarning: elementwise comparison failed; returning scalar instead, but in the future will perform elementwise comparison\n",
      "  res_values = method(rvalues)\n"
     ]
    }
   ],
   "source": [
    "vars_with_missing = []\n",
    "\n",
    "for f in df.columns:\n",
    "    missings = df[f].isnull().sum() + len(df[df[f]=='MISSING'])\n",
    "    if missings > 0:\n",
    "        vars_with_missing.append(f)\n",
    "        missings_perc = missings/df.shape[0]\n",
    "        \n",
    "        print('Variable {} has {} records ({:.2%}) with missing values'.format(f, missings, missings_perc))\n",
    "        \n",
    "print('In total, there are {} variables with missing values'.format(len(vars_with_missing)))"
   ]
  },
  {
   "cell_type": "code",
   "execution_count": 5,
   "metadata": {},
   "outputs": [],
   "source": [
    "df = df.drop(columns= ['veh_lien_cnt', 'curnt_insurer'])"
   ]
  },
  {
   "cell_type": "code",
   "execution_count": 6,
   "metadata": {},
   "outputs": [],
   "source": [
    "df['credit_score'].fillna(df['credit_score'].mean(),inplace=True)\n",
    "df['time_w_carr'].fillna(df['time_w_carr'].mode()[0],inplace=True)\n",
    "df['prior_bi'].fillna(df['prior_bi'].mode()[0],inplace=True)"
   ]
  },
  {
   "cell_type": "code",
   "execution_count": 7,
   "metadata": {},
   "outputs": [],
   "source": [
    "df['target'] =df['future_clm_ind']\n",
    "df = df.drop(columns = ['future_clm_ind'])"
   ]
  },
  {
   "cell_type": "code",
   "execution_count": 8,
   "metadata": {},
   "outputs": [],
   "source": [
    "########################\n",
    "# Highly unbalanced data"
   ]
  },
  {
   "cell_type": "code",
   "execution_count": 9,
   "metadata": {},
   "outputs": [
    {
     "data": {
      "text/plain": [
       "0    2317\n",
       "1     139\n",
       "Name: target, dtype: int64"
      ]
     },
     "execution_count": 9,
     "metadata": {},
     "output_type": "execute_result"
    },
    {
     "data": {
      "image/png": "[encoded data removed]",
      "text/plain": [
       "<Figure size 864x432 with 1 Axes>"
      ]
     },
     "metadata": {
      "needs_background": "light"
     },
     "output_type": "display_data"
    }
   ],
   "source": [
    "\n",
    "plt.figure(figsize=(12,6))\n",
    "sns_plot = sns.countplot(df['target'],palette='rainbow')\n",
    "plt.xlabel('Target')\n",
    "plt.savefig(\"Generated_Image/unbalance.png\")\n",
    "df['target'].value_counts()"
   ]
  },
  {
   "cell_type": "code",
   "execution_count": 10,
   "metadata": {},
   "outputs": [],
   "source": [
    "#############################\n",
    "#Feature Selection"
   ]
  },
  {
   "cell_type": "code",
   "execution_count": 11,
   "metadata": {},
   "outputs": [],
   "source": [
    "def basic_details(df):\n",
    "    b = pd.DataFrame()\n",
    "    b['N unique value'] = df.nunique()\n",
    "    b['dtype'] = df.dtypes\n",
    "    return b"
   ]
  },
  {
   "cell_type": "code",
   "execution_count": 12,
   "metadata": {},
   "outputs": [
    {
     "data": {
      "text/html": [
       "<div>\n",
       "<style scoped>\n",
       "    .dataframe tbody tr th:only-of-type {\n",
       "        vertical-align: middle;\n",
       "    }\n",
       "\n",
       "    .dataframe tbody tr th {\n",
       "        vertical-align: top;\n",
       "    }\n",
       "\n",
       "    .dataframe thead th {\n",
       "        text-align: right;\n",
       "    }\n",
       "</style>\n",
       "<table border=\"1\" class=\"dataframe\">\n",
       "  <thead>\n",
       "    <tr style=\"text-align: right;\">\n",
       "      <th></th>\n",
       "      <th>N unique value</th>\n",
       "      <th>dtype</th>\n",
       "    </tr>\n",
       "  </thead>\n",
       "  <tbody>\n",
       "    <tr>\n",
       "      <th>hhld_id</th>\n",
       "      <td>2456</td>\n",
       "      <td>int64</td>\n",
       "    </tr>\n",
       "    <tr>\n",
       "      <th>drvr_cnt</th>\n",
       "      <td>4</td>\n",
       "      <td>int64</td>\n",
       "    </tr>\n",
       "    <tr>\n",
       "      <th>veh_cnt</th>\n",
       "      <td>4</td>\n",
       "      <td>int64</td>\n",
       "    </tr>\n",
       "    <tr>\n",
       "      <th>min_age</th>\n",
       "      <td>2305</td>\n",
       "      <td>float64</td>\n",
       "    </tr>\n",
       "    <tr>\n",
       "      <th>hoh_age</th>\n",
       "      <td>2394</td>\n",
       "      <td>float64</td>\n",
       "    </tr>\n",
       "    <tr>\n",
       "      <th>max_age</th>\n",
       "      <td>2395</td>\n",
       "      <td>float64</td>\n",
       "    </tr>\n",
       "    <tr>\n",
       "      <th>avg_age</th>\n",
       "      <td>2398</td>\n",
       "      <td>float64</td>\n",
       "    </tr>\n",
       "    <tr>\n",
       "      <th>min_mon_lic</th>\n",
       "      <td>2304</td>\n",
       "      <td>float64</td>\n",
       "    </tr>\n",
       "    <tr>\n",
       "      <th>hoh_mon_lic</th>\n",
       "      <td>2388</td>\n",
       "      <td>float64</td>\n",
       "    </tr>\n",
       "    <tr>\n",
       "      <th>max_mon_lic</th>\n",
       "      <td>2389</td>\n",
       "      <td>float64</td>\n",
       "    </tr>\n",
       "    <tr>\n",
       "      <th>avg_mon_lic</th>\n",
       "      <td>2392</td>\n",
       "      <td>float64</td>\n",
       "    </tr>\n",
       "    <tr>\n",
       "      <th>cnt_yth</th>\n",
       "      <td>4</td>\n",
       "      <td>int64</td>\n",
       "    </tr>\n",
       "    <tr>\n",
       "      <th>cnt_female</th>\n",
       "      <td>5</td>\n",
       "      <td>int64</td>\n",
       "    </tr>\n",
       "    <tr>\n",
       "      <th>cnt_male</th>\n",
       "      <td>5</td>\n",
       "      <td>int64</td>\n",
       "    </tr>\n",
       "    <tr>\n",
       "      <th>cnt_married</th>\n",
       "      <td>5</td>\n",
       "      <td>int64</td>\n",
       "    </tr>\n",
       "    <tr>\n",
       "      <th>cnt_single</th>\n",
       "      <td>5</td>\n",
       "      <td>int64</td>\n",
       "    </tr>\n",
       "    <tr>\n",
       "      <th>hoh_married</th>\n",
       "      <td>2</td>\n",
       "      <td>bool</td>\n",
       "    </tr>\n",
       "    <tr>\n",
       "      <th>cnt_auto</th>\n",
       "      <td>5</td>\n",
       "      <td>int64</td>\n",
       "    </tr>\n",
       "    <tr>\n",
       "      <th>cnt_mtrcyc</th>\n",
       "      <td>4</td>\n",
       "      <td>int64</td>\n",
       "    </tr>\n",
       "    <tr>\n",
       "      <th>avg_majr_viol</th>\n",
       "      <td>7</td>\n",
       "      <td>float64</td>\n",
       "    </tr>\n",
       "    <tr>\n",
       "      <th>cnt_majr_viol</th>\n",
       "      <td>4</td>\n",
       "      <td>int64</td>\n",
       "    </tr>\n",
       "    <tr>\n",
       "      <th>cnt_minr_viol</th>\n",
       "      <td>6</td>\n",
       "      <td>int64</td>\n",
       "    </tr>\n",
       "    <tr>\n",
       "      <th>avg_minr_viol</th>\n",
       "      <td>16</td>\n",
       "      <td>float64</td>\n",
       "    </tr>\n",
       "    <tr>\n",
       "      <th>cnt_lic_susp</th>\n",
       "      <td>2</td>\n",
       "      <td>int64</td>\n",
       "    </tr>\n",
       "    <tr>\n",
       "      <th>time_w_carr</th>\n",
       "      <td>11</td>\n",
       "      <td>float64</td>\n",
       "    </tr>\n",
       "    <tr>\n",
       "      <th>inforce_ind</th>\n",
       "      <td>2</td>\n",
       "      <td>int64</td>\n",
       "    </tr>\n",
       "    <tr>\n",
       "      <th>prior_bi</th>\n",
       "      <td>4</td>\n",
       "      <td>float64</td>\n",
       "    </tr>\n",
       "    <tr>\n",
       "      <th>fire_ind</th>\n",
       "      <td>2</td>\n",
       "      <td>int64</td>\n",
       "    </tr>\n",
       "    <tr>\n",
       "      <th>homeowner_ind</th>\n",
       "      <td>2</td>\n",
       "      <td>int64</td>\n",
       "    </tr>\n",
       "    <tr>\n",
       "      <th>veh_lease_cnt</th>\n",
       "      <td>3</td>\n",
       "      <td>int64</td>\n",
       "    </tr>\n",
       "    <tr>\n",
       "      <th>veh_own_cnt</th>\n",
       "      <td>4</td>\n",
       "      <td>int64</td>\n",
       "    </tr>\n",
       "    <tr>\n",
       "      <th>monthly_pay_ind</th>\n",
       "      <td>2</td>\n",
       "      <td>int64</td>\n",
       "    </tr>\n",
       "    <tr>\n",
       "      <th>veh_w_coll_cnt</th>\n",
       "      <td>5</td>\n",
       "      <td>int64</td>\n",
       "    </tr>\n",
       "    <tr>\n",
       "      <th>veh_w_comp_cnt</th>\n",
       "      <td>5</td>\n",
       "      <td>int64</td>\n",
       "    </tr>\n",
       "    <tr>\n",
       "      <th>veh_w_ers_cnt</th>\n",
       "      <td>5</td>\n",
       "      <td>int64</td>\n",
       "    </tr>\n",
       "    <tr>\n",
       "      <th>curnt_bi_low</th>\n",
       "      <td>4</td>\n",
       "      <td>int64</td>\n",
       "    </tr>\n",
       "    <tr>\n",
       "      <th>curnt_bi_upp</th>\n",
       "      <td>4</td>\n",
       "      <td>int64</td>\n",
       "    </tr>\n",
       "    <tr>\n",
       "      <th>credit_score</th>\n",
       "      <td>2252</td>\n",
       "      <td>float64</td>\n",
       "    </tr>\n",
       "    <tr>\n",
       "      <th>naft_2012</th>\n",
       "      <td>4</td>\n",
       "      <td>int64</td>\n",
       "    </tr>\n",
       "    <tr>\n",
       "      <th>naft_2013</th>\n",
       "      <td>3</td>\n",
       "      <td>int64</td>\n",
       "    </tr>\n",
       "    <tr>\n",
       "      <th>naft_2014</th>\n",
       "      <td>4</td>\n",
       "      <td>int64</td>\n",
       "    </tr>\n",
       "    <tr>\n",
       "      <th>naft_2015</th>\n",
       "      <td>4</td>\n",
       "      <td>int64</td>\n",
       "    </tr>\n",
       "    <tr>\n",
       "      <th>naft_2016</th>\n",
       "      <td>4</td>\n",
       "      <td>int64</td>\n",
       "    </tr>\n",
       "    <tr>\n",
       "      <th>aft_2012</th>\n",
       "      <td>3</td>\n",
       "      <td>int64</td>\n",
       "    </tr>\n",
       "    <tr>\n",
       "      <th>aft_2013</th>\n",
       "      <td>3</td>\n",
       "      <td>int64</td>\n",
       "    </tr>\n",
       "    <tr>\n",
       "      <th>aft_2014</th>\n",
       "      <td>3</td>\n",
       "      <td>int64</td>\n",
       "    </tr>\n",
       "    <tr>\n",
       "      <th>aft_2015</th>\n",
       "      <td>2</td>\n",
       "      <td>int64</td>\n",
       "    </tr>\n",
       "    <tr>\n",
       "      <th>aft_2016</th>\n",
       "      <td>3</td>\n",
       "      <td>int64</td>\n",
       "    </tr>\n",
       "    <tr>\n",
       "      <th>target</th>\n",
       "      <td>2</td>\n",
       "      <td>int64</td>\n",
       "    </tr>\n",
       "  </tbody>\n",
       "</table>\n",
       "</div>"
      ],
      "text/plain": [
       "                 N unique value    dtype\n",
       "hhld_id                    2456    int64\n",
       "drvr_cnt                      4    int64\n",
       "veh_cnt                       4    int64\n",
       "min_age                    2305  float64\n",
       "hoh_age                    2394  float64\n",
       "max_age                    2395  float64\n",
       "avg_age                    2398  float64\n",
       "min_mon_lic                2304  float64\n",
       "hoh_mon_lic                2388  float64\n",
       "max_mon_lic                2389  float64\n",
       "avg_mon_lic                2392  float64\n",
       "cnt_yth                       4    int64\n",
       "cnt_female                    5    int64\n",
       "cnt_male                      5    int64\n",
       "cnt_married                   5    int64\n",
       "cnt_single                    5    int64\n",
       "hoh_married                   2     bool\n",
       "cnt_auto                      5    int64\n",
       "cnt_mtrcyc                    4    int64\n",
       "avg_majr_viol                 7  float64\n",
       "cnt_majr_viol                 4    int64\n",
       "cnt_minr_viol                 6    int64\n",
       "avg_minr_viol                16  float64\n",
       "cnt_lic_susp                  2    int64\n",
       "time_w_carr                  11  float64\n",
       "inforce_ind                   2    int64\n",
       "prior_bi                      4  float64\n",
       "fire_ind                      2    int64\n",
       "homeowner_ind                 2    int64\n",
       "veh_lease_cnt                 3    int64\n",
       "veh_own_cnt                   4    int64\n",
       "monthly_pay_ind               2    int64\n",
       "veh_w_coll_cnt                5    int64\n",
       "veh_w_comp_cnt                5    int64\n",
       "veh_w_ers_cnt                 5    int64\n",
       "curnt_bi_low                  4    int64\n",
       "curnt_bi_upp                  4    int64\n",
       "credit_score               2252  float64\n",
       "naft_2012                     4    int64\n",
       "naft_2013                     3    int64\n",
       "naft_2014                     4    int64\n",
       "naft_2015                     4    int64\n",
       "naft_2016                     4    int64\n",
       "aft_2012                      3    int64\n",
       "aft_2013                      3    int64\n",
       "aft_2014                      3    int64\n",
       "aft_2015                      2    int64\n",
       "aft_2016                      3    int64\n",
       "target                        2    int64"
      ]
     },
     "execution_count": 12,
     "metadata": {},
     "output_type": "execute_result"
    }
   ],
   "source": [
    "basic_details(df)"
   ]
  },
  {
   "cell_type": "code",
   "execution_count": 13,
   "metadata": {},
   "outputs": [
    {
     "data": {
      "text/html": [
       "<div>\n",
       "<style scoped>\n",
       "    .dataframe tbody tr th:only-of-type {\n",
       "        vertical-align: middle;\n",
       "    }\n",
       "\n",
       "    .dataframe tbody tr th {\n",
       "        vertical-align: top;\n",
       "    }\n",
       "\n",
       "    .dataframe thead th {\n",
       "        text-align: right;\n",
       "    }\n",
       "</style>\n",
       "<table border=\"1\" class=\"dataframe\">\n",
       "  <thead>\n",
       "    <tr style=\"text-align: right;\">\n",
       "      <th></th>\n",
       "      <th>min_age</th>\n",
       "      <th>max_age</th>\n",
       "      <th>avg_age</th>\n",
       "      <th>hoh_age</th>\n",
       "      <th>min_mon_lic</th>\n",
       "      <th>max_mon_lic</th>\n",
       "      <th>avg_mon_lic</th>\n",
       "      <th>hoh_mon_lic</th>\n",
       "      <th>credit_score</th>\n",
       "    </tr>\n",
       "  </thead>\n",
       "  <tbody>\n",
       "    <tr>\n",
       "      <th>count</th>\n",
       "      <td>2456.000000</td>\n",
       "      <td>2456.000000</td>\n",
       "      <td>2456.000000</td>\n",
       "      <td>2456.000000</td>\n",
       "      <td>2456.000000</td>\n",
       "      <td>2456.000000</td>\n",
       "      <td>2456.000000</td>\n",
       "      <td>2456.000000</td>\n",
       "      <td>2456.000000</td>\n",
       "    </tr>\n",
       "    <tr>\n",
       "      <th>mean</th>\n",
       "      <td>39.666007</td>\n",
       "      <td>49.806955</td>\n",
       "      <td>45.290053</td>\n",
       "      <td>49.106970</td>\n",
       "      <td>282.231930</td>\n",
       "      <td>402.720549</td>\n",
       "      <td>348.333983</td>\n",
       "      <td>393.098567</td>\n",
       "      <td>667.090822</td>\n",
       "    </tr>\n",
       "    <tr>\n",
       "      <th>std</th>\n",
       "      <td>14.676530</td>\n",
       "      <td>14.917073</td>\n",
       "      <td>12.944450</td>\n",
       "      <td>14.787177</td>\n",
       "      <td>176.148466</td>\n",
       "      <td>180.529551</td>\n",
       "      <td>156.385212</td>\n",
       "      <td>179.063759</td>\n",
       "      <td>98.998311</td>\n",
       "    </tr>\n",
       "    <tr>\n",
       "      <th>min</th>\n",
       "      <td>16.000000</td>\n",
       "      <td>16.000000</td>\n",
       "      <td>16.000000</td>\n",
       "      <td>16.000000</td>\n",
       "      <td>0.000000</td>\n",
       "      <td>0.000000</td>\n",
       "      <td>0.000000</td>\n",
       "      <td>0.000000</td>\n",
       "      <td>345.439379</td>\n",
       "    </tr>\n",
       "    <tr>\n",
       "      <th>25%</th>\n",
       "      <td>28.797552</td>\n",
       "      <td>40.105748</td>\n",
       "      <td>37.264964</td>\n",
       "      <td>39.614974</td>\n",
       "      <td>151.711600</td>\n",
       "      <td>285.624064</td>\n",
       "      <td>251.508585</td>\n",
       "      <td>276.394033</td>\n",
       "      <td>604.008896</td>\n",
       "    </tr>\n",
       "    <tr>\n",
       "      <th>50%</th>\n",
       "      <td>39.068094</td>\n",
       "      <td>50.979108</td>\n",
       "      <td>45.414963</td>\n",
       "      <td>50.216067</td>\n",
       "      <td>273.927099</td>\n",
       "      <td>418.816663</td>\n",
       "      <td>350.994134</td>\n",
       "      <td>406.795641</td>\n",
       "      <td>667.090822</td>\n",
       "    </tr>\n",
       "    <tr>\n",
       "      <th>75%</th>\n",
       "      <td>49.828708</td>\n",
       "      <td>60.478842</td>\n",
       "      <td>53.844861</td>\n",
       "      <td>59.507833</td>\n",
       "      <td>405.678484</td>\n",
       "      <td>531.683231</td>\n",
       "      <td>451.492407</td>\n",
       "      <td>519.364662</td>\n",
       "      <td>735.026403</td>\n",
       "    </tr>\n",
       "    <tr>\n",
       "      <th>max</th>\n",
       "      <td>105.513983</td>\n",
       "      <td>105.513983</td>\n",
       "      <td>105.513983</td>\n",
       "      <td>105.513983</td>\n",
       "      <td>1074.167791</td>\n",
       "      <td>1074.167791</td>\n",
       "      <td>1074.167791</td>\n",
       "      <td>1074.167791</td>\n",
       "      <td>850.000000</td>\n",
       "    </tr>\n",
       "  </tbody>\n",
       "</table>\n",
       "</div>"
      ],
      "text/plain": [
       "           min_age      max_age      avg_age      hoh_age  min_mon_lic  \\\n",
       "count  2456.000000  2456.000000  2456.000000  2456.000000  2456.000000   \n",
       "mean     39.666007    49.806955    45.290053    49.106970   282.231930   \n",
       "std      14.676530    14.917073    12.944450    14.787177   176.148466   \n",
       "min      16.000000    16.000000    16.000000    16.000000     0.000000   \n",
       "25%      28.797552    40.105748    37.264964    39.614974   151.711600   \n",
       "50%      39.068094    50.979108    45.414963    50.216067   273.927099   \n",
       "75%      49.828708    60.478842    53.844861    59.507833   405.678484   \n",
       "max     105.513983   105.513983   105.513983   105.513983  1074.167791   \n",
       "\n",
       "       max_mon_lic  avg_mon_lic  hoh_mon_lic  credit_score  \n",
       "count  2456.000000  2456.000000  2456.000000   2456.000000  \n",
       "mean    402.720549   348.333983   393.098567    667.090822  \n",
       "std     180.529551   156.385212   179.063759     98.998311  \n",
       "min       0.000000     0.000000     0.000000    345.439379  \n",
       "25%     285.624064   251.508585   276.394033    604.008896  \n",
       "50%     418.816663   350.994134   406.795641    667.090822  \n",
       "75%     531.683231   451.492407   519.364662    735.026403  \n",
       "max    1074.167791  1074.167791  1074.167791    850.000000  "
      ]
     },
     "execution_count": 13,
     "metadata": {},
     "output_type": "execute_result"
    }
   ],
   "source": [
    "sts = df[['min_age', 'max_age', 'avg_age', 'hoh_age', 'min_mon_lic','max_mon_lic',\n",
    "      'avg_mon_lic', 'hoh_mon_lic', 'credit_score']].describe()\n",
    "sts"
   ]
  },
  {
   "cell_type": "code",
   "execution_count": 14,
   "metadata": {},
   "outputs": [
    {
     "data": {
      "text/plain": [
       "<Figure size 432x288 with 0 Axes>"
      ]
     },
     "metadata": {},
     "output_type": "display_data"
    },
    {
     "data": {
      "image/png": "[encoded data removed]",
      "text/plain": [
       "<Figure size 864x720 with 2 Axes>"
      ]
     },
     "metadata": {
      "needs_background": "light"
     },
     "output_type": "display_data"
    }
   ],
   "source": [
    "v = df[['cnt_single','cnt_minr_viol']]\n",
    "\n",
    "\n",
    "plt.figure()\n",
    "fig, (ax1, ax2) = plt.subplots(1,2, figsize=(12,10))\n",
    "    \n",
    "\n",
    "\n",
    "    # Calculate the percentage of target=1 per category value\n",
    "cat_perc_1 = df[['cnt_single', 'target']].groupby(['cnt_single'],as_index=False).mean()\n",
    "cat_perc_1.sort_values(by='target', ascending=False, inplace=True)\n",
    "cat_perc_2 = df[['cnt_minr_viol', 'target']].groupby(['cnt_minr_viol'],as_index=False).mean()\n",
    "cat_perc_2.sort_values(by='target', ascending=False, inplace=True)\n",
    "    # Bar plot\n",
    "    # Order the bars descending on target mean\n",
    "sns.barplot(ax=ax1, x='cnt_single', y='target', data=cat_perc_1, order=cat_perc_1['cnt_single'])\n",
    "plt.ylabel('% target')\n",
    "plt.xlabel('cnt_single')\n",
    "sns.barplot(ax=ax2, x='cnt_minr_viol', y='target', data=cat_perc_2, order=cat_perc_2['cnt_minr_viol'])\n",
    "plt.ylabel('% target')\n",
    "plt.xlabel('cnt_minr_viol')\n",
    "plt.tick_params(axis='both', which='major')\n",
    "plt.savefig('Generated_Image/univariate_analysis')\n",
    "\n",
    "plt.show();"
   ]
  },
  {
   "cell_type": "code",
   "execution_count": 15,
   "metadata": {},
   "outputs": [],
   "source": [
    "############################\n",
    "#Feature Selection with Random Forest "
   ]
  },
  {
   "cell_type": "code",
   "execution_count": 16,
   "metadata": {},
   "outputs": [],
   "source": [
    "X = df.drop(columns= ['hhld_id', 'target'])\n",
    "y = df['target']"
   ]
  },
  {
   "cell_type": "code",
   "execution_count": 17,
   "metadata": {},
   "outputs": [
    {
     "data": {
      "text/plain": [
       "RandomForestClassifier(bootstrap=True, ccp_alpha=0.0, class_weight=None,\n",
       "                       criterion='gini', max_depth=None, max_features='auto',\n",
       "                       max_leaf_nodes=None, max_samples=None,\n",
       "                       min_impurity_decrease=0.0, min_impurity_split=None,\n",
       "                       min_samples_leaf=1, min_samples_split=2,\n",
       "                       min_weight_fraction_leaf=0.0, n_estimators=1000,\n",
       "                       n_jobs=-1, oob_score=False, random_state=0, verbose=0,\n",
       "                       warm_start=False)"
      ]
     },
     "execution_count": 17,
     "metadata": {},
     "output_type": "execute_result"
    }
   ],
   "source": [
    "feat_labels = X.columns\n",
    "\n",
    "rf = RandomForestClassifier(n_estimators=1000, random_state=0, n_jobs=-1)\n",
    "\n",
    "rf.fit(X, y)"
   ]
  },
  {
   "cell_type": "code",
   "execution_count": 18,
   "metadata": {},
   "outputs": [
    {
     "name": "stdout",
     "output_type": "stream",
     "text": [
      " 1) credit_score                   0.299712\n",
      " 2) prior_bi                       0.213952\n",
      " 3) avg_mon_lic                    0.036105\n",
      " 4) hoh_age                        0.034295\n",
      " 5) avg_age                        0.033664\n",
      " 6) hoh_mon_lic                    0.033290\n",
      " 7) max_mon_lic                    0.033030\n",
      " 8) min_mon_lic                    0.032749\n",
      " 9) max_age                        0.032404\n",
      "10) min_age                        0.031272\n",
      "11) time_w_carr                    0.017038\n",
      "12) curnt_bi_low                   0.009969\n",
      "13) curnt_bi_upp                   0.009945\n",
      "14) veh_own_cnt                    0.008691\n",
      "15) cnt_male                       0.008475\n",
      "16) drvr_cnt                       0.008232\n",
      "17) cnt_female                     0.008153\n",
      "18) cnt_single                     0.007838\n",
      "19) cnt_minr_viol                  0.007764\n",
      "20) cnt_auto                       0.007655\n",
      "21) avg_minr_viol                  0.007624\n",
      "22) naft_2016                      0.007528\n",
      "23) naft_2014                      0.007327\n",
      "24) veh_w_ers_cnt                  0.007135\n",
      "25) homeowner_ind                  0.006627\n",
      "26) naft_2013                      0.006549\n",
      "27) naft_2012                      0.006482\n",
      "28) veh_w_coll_cnt                 0.006286\n",
      "29) veh_w_comp_cnt                 0.006275\n",
      "30) fire_ind                       0.006080\n",
      "31) monthly_pay_ind                0.005768\n",
      "32) naft_2015                      0.005642\n",
      "33) cnt_married                    0.005384\n",
      "34) veh_cnt                        0.005374\n",
      "35) aft_2015                       0.005181\n",
      "36) aft_2012                       0.004142\n",
      "37) aft_2016                       0.003794\n",
      "38) aft_2014                       0.003305\n",
      "39) hoh_married                    0.003268\n",
      "40) aft_2013                       0.003243\n",
      "41) cnt_mtrcyc                     0.003050\n",
      "42) avg_majr_viol                  0.002561\n",
      "43) cnt_lic_susp                   0.002105\n",
      "44) cnt_majr_viol                  0.001906\n",
      "45) cnt_yth                        0.001823\n",
      "46) veh_lease_cnt                  0.001052\n",
      "47) inforce_ind                    0.000253\n"
     ]
    }
   ],
   "source": [
    "feat_labels = X.columns\n",
    "\n",
    "rf = RandomForestClassifier(n_estimators=1000, random_state=0, n_jobs=-1)\n",
    "\n",
    "rf.fit(X, y)\n",
    "importances = rf.feature_importances_\n",
    "\n",
    "indices = np.argsort(rf.feature_importances_)[::-1]\n",
    "\n",
    "for f in range(X.shape[1]):\n",
    "    print(\"%2d) %-*s %f\" % (f + 1, 30,feat_labels[indices[f]], importances[indices[f]]))"
   ]
  },
  {
   "cell_type": "code",
   "execution_count": null,
   "metadata": {},
   "outputs": [],
   "source": []
  },
  {
   "cell_type": "code",
   "execution_count": 19,
   "metadata": {},
   "outputs": [],
   "source": [
    "num_features = ['min_age', 'max_age', 'avg_age', 'hoh_age', 'min_mon_lic','max_mon_lic',\n",
    "      'avg_mon_lic', 'hoh_mon_lic', 'credit_score']\n",
    "cat_features = ['drvr_cnt', 'veh_cnt', \n",
    "       'cnt_yth', 'cnt_female', 'cnt_male', 'cnt_married', 'cnt_single',\n",
    "       'cnt_auto', 'cnt_mtrcyc', 'avg_majr_viol',\n",
    "       'cnt_majr_viol', 'cnt_minr_viol', 'avg_minr_viol', 'cnt_lic_susp',\n",
    "       'time_w_carr', 'prior_bi', \n",
    "       'veh_lease_cnt', 'veh_own_cnt', 'monthly_pay_ind',\n",
    "       'veh_w_coll_cnt', 'veh_w_comp_cnt', 'veh_w_ers_cnt', 'curnt_bi_low',\n",
    "       'curnt_bi_upp', 'naft_2012', 'naft_2013', 'naft_2014',\n",
    "       'naft_2015', 'naft_2016', 'aft_2012', 'aft_2013', 'aft_2014',\n",
    "       'aft_2015', 'aft_2016']\n",
    "ind_features = ['hoh_married', 'inforce_ind','fire_ind', 'homeowner_ind']"
   ]
  },
  {
   "cell_type": "code",
   "execution_count": 20,
   "metadata": {},
   "outputs": [],
   "source": [
    "#Correlation between interval variable"
   ]
  },
  {
   "cell_type": "code",
   "execution_count": 21,
   "metadata": {},
   "outputs": [
    {
     "data": {
      "image/png": "[encoded data removed]",
      "text/plain": [
       "<Figure size 720x720 with 2 Axes>"
      ]
     },
     "metadata": {
      "needs_background": "light"
     },
     "output_type": "display_data"
    }
   ],
   "source": [
    "def corr_heatmap(v):\n",
    "    correlations = df[v].corr()\n",
    "\n",
    "    # Create color map ranging between two colors\n",
    "    cmap = sns.diverging_palette(220, 10, as_cmap=True)\n",
    "\n",
    "    fig, ax = plt.subplots(figsize=(10,10))\n",
    "    sns.heatmap(correlations, cmap=cmap, vmax=1.0, center=0, fmt='.2f',\n",
    "                square=True, linewidths=.5, annot=True, cbar_kws={\"shrink\": .75})\n",
    "    plt.show();\n",
    "    \n",
    "\n",
    "\n",
    "corr_heatmap(num_features)"
   ]
  },
  {
   "cell_type": "code",
   "execution_count": 22,
   "metadata": {},
   "outputs": [
    {
     "data": {
      "image/png": "[encoded data removed]",
      "text/plain": [
       "<Figure size 864x864 with 2 Axes>"
      ]
     },
     "metadata": {
      "needs_background": "light"
     },
     "output_type": "display_data"
    }
   ],
   "source": [
    "#Correlation plot\n",
    "df_corr = df.drop(columns = ['hhld_id','min_age', 'max_age', 'avg_age', 'hoh_age',\n",
    "                             'min_mon_lic','max_mon_lic','hoh_mon_lic'])\n",
    "cor = df_corr.corr()\n",
    "plt.figure(figsize=(12,12))\n",
    "sns.heatmap(cor,cmap='Set1')\n",
    "plt.savefig(\"Generated_Image/Correlation.png\")"
   ]
  },
  {
   "cell_type": "code",
   "execution_count": 23,
   "metadata": {},
   "outputs": [],
   "source": [
    "feature_selected = ['hhld_id','credit_score', 'prior_bi', 'avg_mon_lic', 'time_w_carr', 'curnt_bi_low', 'curnt_bi_upp',\n",
    "                    'veh_own_cnt', 'cnt_male', 'drvr_cnt', 'cnt_female','target']"
   ]
  },
  {
   "cell_type": "code",
   "execution_count": 24,
   "metadata": {},
   "outputs": [],
   "source": [
    "df = df[feature_selected]"
   ]
  },
  {
   "cell_type": "code",
   "execution_count": 25,
   "metadata": {},
   "outputs": [],
   "source": [
    "def category_type(df):\n",
    "    col = df.columns\n",
    "    for i in col:\n",
    "        if df[i].nunique()<=16:\n",
    "            df[i] = df[i].astype('category')\n",
    "category_type(df)"
   ]
  },
  {
   "cell_type": "code",
   "execution_count": 26,
   "metadata": {},
   "outputs": [],
   "source": [
    "tot_cat_col = list(df.select_dtypes(include=['category']).columns)"
   ]
  },
  {
   "cell_type": "code",
   "execution_count": 27,
   "metadata": {},
   "outputs": [],
   "source": [
    "def OHE(df, column):\n",
    "    cat_col = column\n",
    "    #cat_col = df.select_dtypes(include =['category']).columns\n",
    "    len_df = df.shape[0]\n",
    "    c2,c3 = [],{}\n",
    "    \n",
    "    print('Categorical feature',len(column))\n",
    "    for c in cat_col:\n",
    "        if df[c].nunique()>2 :\n",
    "            c2.append(c)\n",
    "            c3[c] = 'ohe_'+c\n",
    "    \n",
    "    df = pd.get_dummies(df, prefix=c3, columns=c2,drop_first=True)\n",
    "\n",
    "    print('Train',df.shape)\n",
    "    return df"
   ]
  },
  {
   "cell_type": "code",
   "execution_count": 28,
   "metadata": {},
   "outputs": [
    {
     "name": "stdout",
     "output_type": "stream",
     "text": [
      "Categorical feature 9\n",
      "Train (2456, 37)\n"
     ]
    }
   ],
   "source": [
    "train_1 = OHE(df,tot_cat_col)"
   ]
  },
  {
   "cell_type": "code",
   "execution_count": 29,
   "metadata": {},
   "outputs": [],
   "source": [
    "train_1.to_csv('2_Cleaned_Data_feature_selection.csv')"
   ]
  }
 ],
 "metadata": {
  "kernelspec": {
   "display_name": "Python 3",
   "language": "python",
   "name": "python3"
  },
  "language_info": {
   "codemirror_mode": {
    "name": "ipython",
    "version": 3
   },
   "file_extension": ".py",
   "mimetype": "text/x-python",
   "name": "python",
   "nbconvert_exporter": "python",
   "pygments_lexer": "ipython3",
   "version": "3.7.6"
  }
 },
 "nbformat": 4,
 "nbformat_minor": 4
}
